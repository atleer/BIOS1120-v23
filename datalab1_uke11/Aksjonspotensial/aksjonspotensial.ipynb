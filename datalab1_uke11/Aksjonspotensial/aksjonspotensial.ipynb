{
 "cells": [
  {
   "cell_type": "markdown",
   "metadata": {},
   "source": [
    "<!-- dom:TITLE: Beregningsoppgave 2: Aksjonspotensial -->\n",
    "# Beregningsoppgave 2: Aksjonspotensial\n",
    "<!-- AUTHOR: Solveig Næss -->\n",
    "\n",
    "<!-- DATE: today -->\n",
    "\n",
    "<!-- TOC: on -->"
   ]
  },
  {
   "cell_type": "markdown",
   "metadata": {},
   "source": [
    "\n"
   ]
  },
  {
   "cell_type": "markdown",
   "metadata": {},
   "source": [
    "<div class=\"alert alert-block alert-info\">\n",
    "Denne beregningsoppgaven skal leveres i grupper på to eller tre.\n",
    "Start med å lage en kopi av denne fila: Trykk på File; Make a copy.\n",
    "\n",
    "Endre deretter navnet på kopien til: Etternavn1Fornavn1_Etternavn2Fornavn2_aksjon.ipynb. For eksempel: Studentene Alan Hodgkin og Andrew Huxley endrer filnavnet til \"HodgkinAlan_HuxleyAndrew_aksjon.ipynb\"\n",
    "\n",
    "Denne fila skal leveres på CANVAS under Beregning 2: Aksjonspotensial.\n",
    "Leveringsfristen er én uke etter dere hadde lab, klokka 23.59.\n",
    "\n",
    "For å få innleveringen godkjent må dere svare på oppgave 1, 2."
   ]
  },
  {
   "cell_type": "markdown",
   "metadata": {},
   "source": [
    "\n"
   ]
  },
  {
   "cell_type": "markdown",
   "metadata": {},
   "source": [
    "<!-- --- begin exercise --- -->\n",
    "\n",
    "## Aksjonspotensial\n",
    "\n",
    "Mikkel og Hallvard har vært på laben og målt tiden et aksjonspotensial bruker på å vandre langs et myelinert akson fra akilles til et målepunkt. Avstanden mellom akillesen og målepunktet hos Mikkel var 2.1m, men de glemte å måle avstanden hos Hallvard. Tidene de målte skrev de ned i hver sine Excel-filer.\n",
    "\n",
    "I denne oppgaven skal vi se på *avstand*, *tid* og *fart* for målingene Mikkel og Hallvard gjorde av aksjonspotensialer. For å gjøre disse beregningene skal vi bruke Python. Vi kommer da til å være innom disse **Python-konseptene**:\n",
    "1. Variabler - for å tilegne/holde på verdier.\n",
    "2. Lesing av excel-fil (.xlsx) vha. pandas-biblioteket.\n",
    "3. Funksjoner - en liten kodesnutt som gjør noe, samt er enkel å (gjen)bruke.\n",
    "5. Løkker - for å repetere samme kodesnutt flere ganger.\n",
    "4. Enkle matematiske beregninger (addisjon, subtraksjon, multiplikasjon og divisjon).\n",
    "5. Plotting - for å visualisere resultatene våre.\n",
    "\n",
    "Siden Mikkel og Hallvard har gjort flere målinger (så bra!), så har vi også mulighet til å ta høyde for variasjoner i målingene deres. Dette hjelper oss å vite hvor (u)nøyaktig beregningene våre er. For å utnytte at vi har flere målinger, samt ta høyde for måleusikkerhet vil vi derfor se på noen **statistiske metoder**: \n",
    "1. Gjennomsnitt\n",
    "2. Standardavvik\n",
    "3. Standardfeil\n",
    "\n",
    "<!-- dom:FIGURE: [experiment_sketch.png, width=600 frac=0.9] Sketch of the resulting graph of the experiment. -->\n",
    "<!-- begin figure -->\n",
    "\n",
    "<p>Illustrasjon av hvordan et aksjonspotensial beveger seg i tid når vi måler (potensiale/volt) på et punkt.</p>\n",
    "<img src=\"experiment_sketch.png\" width=600>\n",
    "\n",
    "<!-- end figure -->\n",
    "\n",
    "**Merk!** Alle kvantitetene på illustrasjonen ovenfor har blitt målt og inkludert i excel-arkene til Mikkel og Hallvard. Dog kommer vi bare til å bruke kvantiteten: **tid_peak** i dette oppgaveheftet.\n",
    "\n",
    "---"
   ]
  },
  {
   "cell_type": "markdown",
   "metadata": {},
   "source": [
    "### Oppgave 1\n",
    "Siden Mikkel og Hallvard glemte å måle avstanden mellom akillesen og målepunktet for Hallvard ønsker vi istedenfor å regne det ut. Men hvordan kan vi gjøre det når vi bare vet *tiden* aksjonspotensialet til Hallvard brukte på den ukjente avstanden? For å komme dit er vi nødt å ta en liten omvei. Vi begynner med å finne avstand når vi vet fart og tid.\n",
    "\n",
    "**a)**\n",
    "Skriv opp en formel (dobbel-klikk på $svar$ under og skriv der) som regner ut hvor langt aksjonspotensialet beveger seg avstand $s$ i løpet av tiden $t$ med en fart $v$."
   ]
  },
  {
   "cell_type": "markdown",
   "metadata": {},
   "source": [
    "$$\n",
    "svar: \n",
    "$$"
   ]
  },
  {
   "cell_type": "markdown",
   "metadata": {},
   "source": [
    "\n",
    "**b)**\n",
    "Nå som vi vet hvordan formelen for å regne ut avstand, gitt tid og fart ønsker vi å lage en Python-funksjon som kan gjøre denne utregningen for oss.\n",
    "Husk at en Python-funksjon krever fem kodelementer:\n",
    "1. 'def' - kodeordet\n",
    "2. Navn på funksjonen\n",
    "3. Argumenter (input) til funksjonen\n",
    "4. Kode som funksjonen skal gjøre\n",
    "5. 'Return' (output) verdien til funksjonen \n",
    "\n",
    "Lag en python-funksjon som returnerer hvor langt $s$ et aksjonspotensial kan forflytte seg med farten $v$ langs et myelinert akson i løpet av tiden $t$."
   ]
  },
  {
   "cell_type": "code",
   "execution_count": null,
   "metadata": {},
   "outputs": [],
   "source": []
  },
  {
   "cell_type": "markdown",
   "metadata": {},
   "source": [
    "\n",
    "**c)**\n",
    "Dataene er lagret i Excel-filene `Mikkel.xlsx` og `Hallvard.xlsx` som vi leser med pandas,\n",
    "bruk `pd.read_excel` for å laste opp dataene i variablene `mikkel` og `hallvard`. *Vi har hjulpet dere i gang i cellen under. Merk at den ikke vil kjøre før dere har gjort passende justeringer, som å lage en variabel kalt \"filnavn\" som holder navnet på Excel-filen dere vil lese. Dere må også kjøre cellen hvor det står \"pip install openpyxl\" først.*"
   ]
  },
  {
   "cell_type": "code",
   "execution_count": 1,
   "metadata": {},
   "outputs": [
    {
     "name": "stdout",
     "output_type": "stream",
     "text": [
      "Requirement already satisfied: openpyxl in /Users/atleeskelandrimehaug/opt/anaconda3/envs/gen_env/lib/python3.7/site-packages (3.0.9)\n",
      "Requirement already satisfied: et-xmlfile in /Users/atleeskelandrimehaug/opt/anaconda3/envs/gen_env/lib/python3.7/site-packages (from openpyxl) (1.1.0)\n",
      "Note: you may need to restart the kernel to use updated packages.\n"
     ]
    }
   ],
   "source": [
    "pip install openpyxl"
   ]
  },
  {
   "cell_type": "code",
   "execution_count": null,
   "metadata": {},
   "outputs": [],
   "source": [
    "# importerer pandas for å bruke til å lese fra fil\n",
    "import pandas as pd\n",
    "\n",
    "\n",
    "# Hint: Dere kan ta utgangspunkt i koden på de neste linjene for å laste data fra Mikkel og Hallvard \n",
    "filnavn_mikkel = ___\n",
    "filnavn_hallvard = ___\n",
    "data_mikkel = pd.read_excel(___)\n",
    "data_hallvard = ___\n",
    "\n",
    "# Tips: Print data fra Mikkel og/eller Hallvard for å se at det ser riktig ut\n"
   ]
  },
  {
   "cell_type": "markdown",
   "metadata": {},
   "source": [
    "**d)**\n",
    "Nå har vi lastet inn alle dataene (tid_peak, hammer_peak, osv) til Mikkel og Hallvard i pandas dataframes. Dog trenger vi bare tidene det tok for aksjonspotensialet å bevege seg fra akilles til målepunktet, altså *tid_peak*. I tillegg har vi bedre erfaring med å jobbe med lister enn pandas dataframes.\n",
    "Hent ut, gjør om til lister og lagre tidene *tid_peak* til Mikkel og Hallvard i to variabler med navn: **tider_mikkel** og **tider_hallvard**."
   ]
  },
  {
   "cell_type": "code",
   "execution_count": null,
   "metadata": {},
   "outputs": [],
   "source": []
  },
  {
   "cell_type": "markdown",
   "metadata": {},
   "source": [
    "\n",
    "**e)**\n",
    "Nå som vi har en liste av målte tider det tok for aksjonspotensialet til Mikkel og Hallvard å bevege seg fra akilles til målepunkt, kan vi oppsummere listen (beskrive den med ett tall istedenfor en liste med tall) med f.eks. et gjennomsnitt.\n",
    "\n",
    "Beregn gjennomsnitlig ledningshastighet langs et myelinert akson med Mikkel sine data. *Hint! Regn ut summen (her finnes mange mulige fremgangsmåter, men kan man f.eks. bruke en løkke) av tidene, deretter del på antall målinger*"
   ]
  },
  {
   "cell_type": "code",
   "execution_count": null,
   "metadata": {},
   "outputs": [],
   "source": []
  },
  {
   "cell_type": "markdown",
   "metadata": {},
   "source": [
    "\n",
    "**f)**\n",
    "Vi antar at de myelinerte aksonene til Mikkel og Hallvard har ganske lik hastighet, og tenker derfor at vi kan bruke hastigheten til aksonet til Mikkel for å finne avstanden mellom akilles og målepunktet hos Hallvard.\n",
    "\n",
    "Beregn avstanden til målepunktet hos Hallvard, med å bruke hastigheten beregnet fra Mikkel sine data *Hint! Bruk funksjonen du laget i oppgave* **b)**"
   ]
  },
  {
   "cell_type": "code",
   "execution_count": null,
   "metadata": {},
   "outputs": [],
   "source": []
  },
  {
   "cell_type": "markdown",
   "metadata": {},
   "source": [
    "\n",
    "**g)**\n",
    "Til slutt ønsker vi å visualisere hvor fort et aksjonspotensiale beveger seg i et myelinert akson vs. et umyelinert askon.\n",
    "\n",
    "Bruk den estimerte ledningshastigheten til Mikkel og lag et plott som viser strekningen\n",
    "aksjonspotensialet kan forflytte seg som funksjon av tid. Plot på samme tid også strekningen et aksjonspotensialet kan forflytte seg dersom det er umyelinert og har en ledningshastighet på $\\approx 1$ m/s."
   ]
  },
  {
   "cell_type": "code",
   "execution_count": null,
   "metadata": {},
   "outputs": [],
   "source": [
    "import matplotlib.pyplot as plt\n",
    "\n",
    "tidspunkter = range(___)\n",
    "\n",
    "avstander_myelinert = []\n",
    "avstander_umylinert = []\n",
    "for tidspunkt in ___:\n",
    "    avstand_myelinert = ___ # HINT! bruk Mikkel sin hastighet, og funksjonen fra deloppgave b)\n",
    "    avstand_umyelinert = ___\n",
    "    avstander_myelinert.append(___)\n",
    "    avstander_umylinert.append(___)\n",
    "\n",
    "plt.plot(___, ____) # avstander m/hastigheten til Mikkel sitt myelinerte akson\n",
    "plt.plot(___, ____) # avstander m/hastigheten til et umyelinerte akson\n",
    "\n",
    "# OBS OBS!\n",
    "# Legg til beskrivelse av akser, graf-navn (legend) og tittel på plot\n",
    "# OBS OBS!\n",
    "\n",
    "plt.show()"
   ]
  },
  {
   "cell_type": "markdown",
   "metadata": {},
   "source": [
    "\n",
    "<!-- --- end exercise --- -->\n",
    "\n",
    "\n",
    "# Måleusikkerhet\n",
    "Hvis vi hadde målt noe, f.eks. tiden det tok for aksjonspotensialet til Mikkel å vandre fra akilles til målepunkt, bare én gang, så hadde vi ikke trengt å bruke statistikk. Da kunne vi sagt at tiden aksjonspotensialet brukte på målingen vår er så lang tid et aksjonspotensialet bruker. Men hva hvis utstyret vårt er litt unøyaktig? Eller, hva hvis vi (mennesker) ikke var så nøye når vi målte? Vi kan faktisk kompensere for disse feilene ved å ta flere målinger!\n",
    "\n",
    "Istedenfor én måling kan vi heller bruke gjennomsnittet av alle målingene våre. I tillegg kan vi lære noe om hvor mye variasjon/spredning det er i målingene våre (standardavvik). Til slutt kan vi faktisk også vite noe om unøyaktigheten i estimatet vårt (standardfeil). Disse tre konseptene er så viktig i statistikk at de har fått egne navn, nemlig:\n",
    "1. Gjennomsnitt\n",
    "2. Standardavvik\n",
    "3. Standardfeil\n",
    "\n",
    "Disse kvantitetene kan man regne ut på følgende måter:\n",
    "\n",
    "#### **Gjennomsnitt**\n",
    "$$\n",
    "\\bar{x} = \\frac{1}{N} \\sum_{i=1}^{N} x_i\n",
    "$$\n",
    "\n",
    "Den sanne verdien har sitt beste estimat gitt av gjennomsnittet $\\bar{x}$. (OBS! Den sanne verdien finnes kanskje, men vi klarer ikke finne den - siden vi er alltid litt unøyaktige når vi måler). Her betyr den store greske bokstaven $\\sum$ at vi summerer over alle (N) målingene våre $x_i$.\n",
    "\n",
    "#### **Standardavvik**\n",
    "\n",
    "Når man gjør en enkelt måling $x_i$ er det 68 % sikkert at den vil falle innenfor $x_{true} \\pm \\sigma_x$ hvor $\\sigma_x$ er standardavviket gitt av \n",
    "\n",
    "$$\n",
    "\\sigma_x = \\sqrt{\\frac{1}{N} \\sum_{i=1}^{N}(x_i - \\bar{x})^2}\n",
    "$$\n",
    "\n",
    "#### **Standardfeil**\n",
    "\n",
    "$$\n",
    "\\sigma_{\\bar{x}} = \\sigma_x / \\sqrt{N}\n",
    "$$\n",
    "\n",
    "Legg merke til at standardfeilen blir mindre dess flere målinger N man gjør, slik man vil forvente.\n",
    "\n",
    "---\n",
    "**FUN FACT** *Visste du at det er et system i galskapen for hvordan man velger hvilke greske bokstaver man kaller forskjellige kvantiteter for? Den greske bokstaven $\\sigma$ og $\\sum$ (liten og stor bokstav), som uttales 'sigma', brukes for å hjelpe oss å assosiere for eksempel: **standard deviation** (standardavvik på norsk) og **summation** (summering på norsk) - siden alle starter på bokstaven 's'. Klarer du å komme på andre eksempler? (Man trenger ikke svare på dette spørsmålet!)*\n",
    "\n",
    "---"
   ]
  },
  {
   "cell_type": "markdown",
   "metadata": {},
   "source": [
    "## Eksempel: Gjennomsnitt og Standardavvik\n",
    "Si at vi ønsker å måle temperaturen i et rom i Celsius. Vi måler én gang hver time og får følgende målinger\n",
    "\n",
    "$$\n",
    "21.4, 21.5, 22.9, 22.2, 21.4, 22.9, 20.0 , 22.5, 20.6, 20.0\n",
    "$$\n",
    "\n",
    "Gjennomsnittet er da $\\bar{c} = 21.5$ og med formelen ovenfor kan vi regne ut\n",
    "standardavviket til å bli $\\sigma_c \\approx 1.1 C^{\\circ}$."
   ]
  },
  {
   "cell_type": "markdown",
   "metadata": {},
   "source": [
    "$$\n",
    "\\sigma_{\\bar{x}} = \\sigma_x / \\sqrt{N}\n",
    "$$"
   ]
  },
  {
   "cell_type": "markdown",
   "metadata": {},
   "source": [
    "## Eksempel: Standardfeil\n",
    "\n",
    "Målingene av temperaturen ovenfor hadde gjennomsnittet $\\bar{c} = 21.5$. \n",
    "Usikkerheten til dette gjennomsnittet representerer vi med standardfeil\n",
    "\n",
    "$$\n",
    "\\sigma_x / \\sqrt{N} = 1.1 / \\sqrt{10} = 0.35 C^{\\circ}\n",
    "$$\n",
    "\n",
    "---"
   ]
  },
  {
   "cell_type": "markdown",
   "metadata": {},
   "source": [
    "<!-- --- begin exercise --- -->\n",
    "\n",
    "### Oppgave 2\n",
    "Før vi ser på statistikkene nevnt ovenfor ønsker vi å visualisere målingene. Dette kan vi gjøre ved hjelp av et såkalt *histogram*. \n",
    "\n",
    "**a)**\n",
    "Lag et histogram av `tid_peak` fra Mikkel sine data, forklar hva et histogram er og hva *stolpene* i plottet betyr. (En god forklaring tar utgangspunkt i hvordan man tolker x- og y-aksene)"
   ]
  },
  {
   "cell_type": "code",
   "execution_count": null,
   "metadata": {},
   "outputs": [],
   "source": [
    "plt.hist(___)\n",
    "\n",
    "# OBS! Lag navn på aksene og gi tittel på plottet!\n",
    "\n",
    "plt.show()"
   ]
  },
  {
   "cell_type": "markdown",
   "metadata": {},
   "source": [
    "\n",
    "**b)**\n",
    "Beregn ledningshastigheten for alle tidsmålingene til Mikkel (*tid_peak*). Deretter, regn ut usikkerheten til den gjennomsnittlige ledningshastigheten."
   ]
  },
  {
   "cell_type": "code",
   "execution_count": null,
   "metadata": {},
   "outputs": [],
   "source": [
    "hastigheter = []\n",
    "for tid_mikkel in tider_mikkel:\n",
    "    hastighet = ___ # hint! Bruk formelen i oppgave 1 b)\n",
    "    hastigheter.append(___)\n",
    "\n",
    "    \n",
    "gjennomsnitt_hastighet = ___\n",
    "\n",
    "standardavvik_hastighet = ___\n",
    "\n",
    "standardfeil_hastighet = ___"
   ]
  }
 ],
 "metadata": {
  "kernelspec": {
   "display_name": "Python 3",
   "language": "python",
   "name": "python3"
  },
  "language_info": {
   "codemirror_mode": {
    "name": "ipython",
    "version": 3
   },
   "file_extension": ".py",
   "mimetype": "text/x-python",
   "name": "python",
   "nbconvert_exporter": "python",
   "pygments_lexer": "ipython3",
   "version": "3.7.6"
  }
 },
 "nbformat": 4,
 "nbformat_minor": 4
}

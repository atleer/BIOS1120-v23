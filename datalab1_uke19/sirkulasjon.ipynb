{
 "cells": [
  {
   "cell_type": "markdown",
   "metadata": {},
   "source": [
    "<!-- dom:TITLE: Beregningsoppgave 3: Sirkulasjon -->\n",
    "# Beregningsoppgave 3: Sirkulasjon\n",
    "<!-- AUTHOR: Solveig Næss, Mikkel Lepperød -->\n",
    "\n",
    "<!-- DATE: today -->\n",
    "\n",
    "<!-- TOC: on -->"
   ]
  },
  {
   "cell_type": "markdown",
   "metadata": {},
   "source": [
    "\n"
   ]
  },
  {
   "cell_type": "markdown",
   "metadata": {},
   "source": [
    "<div class=\"alert alert-block alert-info\">\n",
    "Denne beregningsoppgaven skal leveres i grupper på to eller tre.\n",
    "\n",
    "**MERK:** Det holder at én person leverer per gruppe. Pass på å få med både fornavn og etternavn på alle gruppemedlemmene i filnavnet.\n",
    "\n",
    "Start med å lage en kopi av denne fila: Trykk på File; Make a copy.\n",
    "\n",
    "Endre deretter navnet på kopien til: Etternavn1Fornavn1_Etternavn2Fornavn2_aksjon.ipynb. For eksempel: Studentene Alan Hodgkin og Andrew Huxley endrer filnavnet til \"HodgkinAlan_HuxleyAndrew_sirkulasjon.ipynb\"\n",
    "\n",
    "\n",
    "Denne fila skal leveres på CANVAS under Beregning3: Sirkulasjon.\n",
    "Leveringsfristen er klokka 23.59 én uke etter at dere hadde labøkten.\n",
    "\n",
    "For å få innleveringen godkjent må dere svare på alle oppgavene."
   ]
  },
  {
   "cell_type": "markdown",
   "metadata": {},
   "source": [
    "\n"
   ]
  },
  {
   "cell_type": "markdown",
   "metadata": {},
   "source": [
    "**Etter at dere har gjort denne oppgaven skal dere kunne forklare**\n",
    "* sammenhengen mellom blodstrøm, blodtrykksendring og motstand i en blodåre\n",
    "\n",
    "* hvordan viskositet, lengde og radius påvirker blodstrøm og blodtrykksendring i en blodåre\n",
    "\n",
    "\n",
    "\n",
    "\n",
    "\n",
    "<!-- --- begin exercise --- -->\n",
    "\n",
    "## Oppgave 1: Blodstrøm, blodtrykksendring og motstand\n",
    "<div id=\"ex:flow\"></div>\n",
    "\n",
    "I læreboken kan dere lese om hvordan blodstrøm i en blodåre er avhengig av\n",
    "blodtrykksendring og motstand i åren. Dette kan beskrives av\n",
    "Pouiseuille-likningen:"
   ]
  },
  {
   "cell_type": "markdown",
   "metadata": {},
   "source": [
    "<!-- Equation labels as ordinary links -->\n",
    "<div id=\"eq:flow\"></div>\n",
    "\n",
    "$$\n",
    "\\begin{equation} \\label{eq:flow} \\tag{1}\n",
    "q = \\frac{\\Delta p}{R},\n",
    "\\end{equation}\n",
    "$$"
   ]
  },
  {
   "cell_type": "markdown",
   "metadata": {},
   "source": [
    "* $\\Delta p$ er blodtrykksendringen i åren og måles i pascal ($\\mathrm{Pa}$) eller millimeter kvikksølv ($\\mathrm{mmHg}$).\n",
    "\n",
    "* $R$ er motstanden i blodåren og måles i $\\mathrm{Pa \\cdot s/m^3}$ eller $\\mathrm{mmHg \\cdot min/l}$.\n",
    "\n",
    "**a)**\n",
    "$q$ er blodets volumstrøm (blodstrøm eller flow).\n",
    "Hva er den fysiske enheten til $q$?"
   ]
  },
  {
   "cell_type": "markdown",
   "metadata": {},
   "source": [
    "        Svar: "
   ]
  },
  {
   "cell_type": "markdown",
   "metadata": {},
   "source": [
    "**b)**\n",
    "Bruk formelen over og diskuter:\n",
    "(Skriv svaret under ved å dobbeltklikke på \"Svar:\".)\n",
    "* Hva vil skje med blodstrømmen dersom blodtrykksendringen øker?"
   ]
  },
  {
   "cell_type": "markdown",
   "metadata": {},
   "source": [
    "        Svar:\n"
   ]
  },
  {
   "cell_type": "markdown",
   "metadata": {},
   "source": [
    "* Hva vil skje med blodstrømmen dersom motstanden i blodåren øker?"
   ]
  },
  {
   "cell_type": "markdown",
   "metadata": {},
   "source": [
    "        Svar:\n"
   ]
  },
  {
   "cell_type": "markdown",
   "metadata": {},
   "source": [
    "**c)**\n",
    "Fullfør python-funksjonen `flow` som tar inn blodtrykksendring `delta_p` og motstand `R`\n",
    "som argumenter og returnerer blodets volumstrøm $q$."
   ]
  },
  {
   "cell_type": "code",
   "execution_count": 2,
   "metadata": {},
   "outputs": [],
   "source": [
    "from pylab import *\n",
    "\n",
    "def flow(delta_p, R):\n",
    "    q = ___\n",
    "    return q"
   ]
  },
  {
   "cell_type": "markdown",
   "metadata": {},
   "source": [
    "\n",
    "**d)**\n",
    "Lag et plot med blodtrykksendring $\\Delta p$ på x aksen og\n",
    "og blodets volumstrøm $q$ på y aksen for forskjellige verdier av motstand $R$.\n",
    "Plottet skal ha en `legend` som viser de forskjellige verdiene av $R$.\n",
    "`delta_p` skal gå fra 80 til 140 med steg 10 (mmHg),\n",
    "`R` skal gå fra 20 til 100 med steg 20 (mmHg min/l).\n",
    "Plottet skal også ha riktig enhet for blodtrykksendring på y aksen."
   ]
  },
  {
   "cell_type": "code",
   "execution_count": null,
   "metadata": {},
   "outputs": [],
   "source": [
    "# for plotting\n",
    "plt.rcParams.update({'font.size': 16})"
   ]
  },
  {
   "cell_type": "code",
   "execution_count": null,
   "metadata": {},
   "outputs": [],
   "source": [
    "\n",
    "# legg til kode de neste linjene for å lage arrays for delta_p og R med start, slutt og steglengde beskrevet i oppgaveteksten\n",
    "# HINT: Hvis du er usikker på hvordan man lager arrays, prøv å søke opp \"linspace\" eller \"arange\" fra \n",
    "# numpy-biblioteket eller spør hjelpelærer\n",
    "delta_p = ___\n",
    "R = ___\n",
    "\n",
    "plt.figure(figsize=(10,9))\n",
    "legends=[]\n",
    "for r in R:\n",
    "    # legg til kode på neste linje for regne ut flow (q) for hver r-verdi\n",
    "    q = ____\n",
    "    \n",
    "    # fyll inn passende parametere i plotte-funksjonen\n",
    "    plt.plot(___)\n",
    "    legends.append('R={} ()'.format(r))\n",
    "    \n",
    "plt.legend(legends)\n",
    "\n",
    "# legg til enheter innenfor parantesene på akse-lablene på de to neste linjene\n",
    "plt.xlabel('blodtrykksendring, delta_p (___)')\n",
    "plt.ylabel('blodstrøm eller flow, q (___)')\n",
    "plt.show()"
   ]
  },
  {
   "cell_type": "markdown",
   "metadata": {},
   "source": [
    "\n",
    "**e)**\n",
    "Hvordan endres blodstrømmen når blodtrykksendringen i blodåren øker? Bruk grafen."
   ]
  },
  {
   "cell_type": "markdown",
   "metadata": {},
   "source": [
    "        Svar:\n"
   ]
  },
  {
   "cell_type": "markdown",
   "metadata": {},
   "source": [
    "\n",
    "**f)**\n",
    "Hvordan endres blodstrømmen dersom motstanden i blodåren øker? Bruk grafen"
   ]
  },
  {
   "cell_type": "markdown",
   "metadata": {},
   "source": [
    "        Svar:\n"
   ]
  },
  {
   "cell_type": "markdown",
   "metadata": {},
   "source": [
    "\n",
    "\n",
    "Stemte dette overens med det dere kom fram til i Oppgave 1 b og c?\n",
    "\n",
    "<!-- --- end exercise --- -->\n",
    "\n",
    "\n",
    "\n",
    "\n",
    "<!-- --- begin exercise --- -->\n",
    "\n",
    "## Exercise 2: Hva påvirker blodårens motstand?\n",
    "\n",
    "Under har vi en formel som beskriver hvordan motstanden mot blodstrøm i åren\n",
    "avhenger av ulike parametere."
   ]
  },
  {
   "cell_type": "markdown",
   "metadata": {},
   "source": [
    "<!-- Equation labels as ordinary links -->\n",
    "<div id=\"eq:R\"></div>\n",
    "\n",
    "$$\n",
    "\\begin{equation} \\label{eq:R} \\tag{2}\n",
    "R = \\frac{8 \\eta l}{\\pi r^4},\n",
    "\\end{equation}\n",
    "$$"
   ]
  },
  {
   "cell_type": "markdown",
   "metadata": {},
   "source": [
    "der $\\eta$ (gresk: eta) er blodets viskositet, $l$ er blodårens lengde og $r$ er blodårens radius.\n",
    "\n",
    "\n",
    "**a)**\n",
    "Fullfør python-funksjonen i neste celle slik at den regner ut $R$ gitt lengde $l$ og viskositet $\\eta$ med formel (2).\n",
    "\n",
    "**NB:**\n",
    "\n",
    "- Potenser (f. eks. x$^y$) skrives i python på formen x**y.\n",
    "- Vær nøye med å få med parentesene som trengs i implementeringen av formelen! F. eks: a/(b$\\cdot$c) gir ikke samme svar som a/b$\\cdot$c."
   ]
  },
  {
   "cell_type": "code",
   "execution_count": null,
   "metadata": {},
   "outputs": [],
   "source": [
    "# svar her\n",
    "def resistance(l,eta,r):\n",
    "    R = ___\n",
    "    return R"
   ]
  },
  {
   "cell_type": "markdown",
   "metadata": {},
   "source": [
    "\n",
    "**b)**\n",
    "Hva vil gi størst endring i blodårens motstand $R$?\n",
    "* dobling av viskositeten\n",
    "\n",
    "* dobling av lengden\n",
    "\n",
    "* halvering av radien"
   ]
  },
  {
   "cell_type": "markdown",
   "metadata": {},
   "source": [
    "        Svar:\n"
   ]
  },
  {
   "cell_type": "markdown",
   "metadata": {},
   "source": [
    "---\n",
    "\n",
    "Vi ønsker å bruke følgende enheter:\n",
    "\n",
    "$[\\eta] = \\mathrm{m Pa ~ s}$\n",
    "\n",
    "$[l] = \\mathrm{mm}$\n",
    "\n",
    "$[r] = \\mathrm{mm}$\n",
    "\n",
    "$[R] = \\mathrm{mmHg ~ min/l}$\n",
    "\n",
    "\n",
    "Men vi får et problem; vi bruker forskjellige enheter mellom venstre og høyre side av ligning (2). Med andre ord, venstre siden er gitt ved\n",
    "\n",
    "$R \\implies \\frac{mm\\,Hg\\,min}{l}$\n",
    "\n",
    "mens høyre side blir\n",
    "\n",
    "$ \\frac{8 \\eta l}{\\pi r^4} \\implies \\frac{m\\,Pa\\,s\\,mm}{(mm)^4} = \\frac{m\\,Pa\\,s}{(mm)^3}$\n",
    "\n",
    "Vi ønsker å kunne bruke begge enhetsformene, så vi må ha en måte å gå fra den ene til den andre. For å gjøre dette enklere kan vi dele det opp i tre steg:\n",
    "\n",
    "1. Gå FRA $mPa$ TIL $mmHg$ (dette tallet må googles, pass på at \"m\" i \"mPa\" er liten, stor \"M\" betyr \"Mega\", her er vi ute etter **milli**Pascal) - kall dette tallet $X$\n",
    "2. Gå FRA sekunder $s$ TIL minutter $min$ - kall dette tallet $Y$\n",
    "3. Gå FRA $mm^3$ TIL $dm^3$ - kall dette tallet $Z$\n",
    "\n",
    "Samlet kan vi beskrive hele konverteringen som: $\\frac{m\\,Pa\\,s}{(mm)^3} = \\frac{XY}{Z} \\cdot \\frac{mm\\,Hg\\,min}{l}$\n",
    "\n",
    "Vi kan tolke denne likningen ved å si at at **én enhet av venstre siden er lik $\\frac{XY}{Z}$ av høyre siden**. Hvis vi da skulle hatt lyst å konvertere f.eks. 10 $\\frac{m\\,Pa\\,s}{(mm)^3}$ til 10 $\\frac{mm\\,Hg\\,min}{l}$, så hadde vi ganget hver side med 10, og vi kan da lese ut fra høyre siden hvor mye det blir i den andre enheten.\n",
    "\n",
    "**c)**\n",
    "\n",
    "- **(i)** Finn tallet X\n",
    "\n",
    "- **(ii)** Finn tallet Y\n",
    "\n",
    "- **(iii)** Finn tallet Z\n",
    "\n",
    "- **(iv)** Finn tallet som samlet lar deg konvertere mellom de to ønskede enhetene."
   ]
  },
  {
   "cell_type": "markdown",
   "metadata": {},
   "source": [
    "**Svar:**\n",
    "\n",
    "X = ___\n",
    "\n",
    "Y = ___\n",
    "\n",
    "Z = ___\n",
    "\n",
    "$\\frac{XY}{Z}$ = ___"
   ]
  },
  {
   "cell_type": "markdown",
   "metadata": {},
   "source": [
    "\n",
    "**d)**\n",
    "Sett inn verdiene dere fant for X, Y og Z for å fullføre python-funksjonen mPasm3_to_mmHgl som utfører konverteringen over. Fullfør også python-funksjon som returnerer $R$ i disse nye enhetene, og sjekk at funksjonen deres gir samme resultat som fasit i cellen under ved å kjøre den.\n",
    "\n"
   ]
  },
  {
   "cell_type": "code",
   "execution_count": 2,
   "metadata": {},
   "outputs": [],
   "source": [
    "def mPasm3_to_mmHgl(antall_mPas_pr_mm_cub):\n",
    "    X = ___\n",
    "    Y = ___\n",
    "    Z = ___\n",
    "    antall_mmHg_min_pr_l = antall_mPas_pr_mm_cub * (X * Y / Z)\n",
    "    return antall_mmHg_min_pr_l\n",
    "\n",
    "def resistance2(l,eta,r):\n",
    "    # Bruk funksjonen \"resistance\" lagd tidligere for å regne ut R i de \"gamle\" enhetene, altså mPa*s/(mm^3)\n",
    "    R = ___    \n",
    "    # Bruk funksjonen \"mPasm^3_to_mmHgl\" til å konvertere R fra mPa*s/(mm^3) til mmHg*min/l\n",
    "    R_mmHgl = ___\n",
    "    return R_mmHgl"
   ]
  },
  {
   "cell_type": "code",
   "execution_count": 3,
   "metadata": {},
   "outputs": [
    {
     "name": "stdout",
     "output_type": "stream",
     "text": [
      "Test av resistance2-funksjonen. Med l = 1 mm, eta = 1 mPa*s, r = 1 mm som input til funksjonen resistance2 skal motstanden bli 0.318 mmHg*min/L. Vi får resistance2(l=1,eta=1,r=1) = \n"
     ]
    }
   ],
   "source": [
    "print('Test av resistance2-funksjonen. Med l = 1 mm, eta = 1 mPa*s, r = 1 mm som input til funksjonen \\\n",
    "resistance2 skal motstanden bli 0.318 mmHg*min/L. Vi får resistance2(l=1,eta=1,r=1) =', resistance2(l=1,eta=1,r=1))"
   ]
  },
  {
   "cell_type": "markdown",
   "metadata": {},
   "source": [
    "\n",
    "**e)**\n",
    "For å visualisere hvordan motstand $R$ endrer seg med $\\eta, l$ og $r$ vil vi\n",
    "lage 3 plot. I hvert plot skal bare en variabel endre seg, dvs, vi setter de\n",
    "andre variablene konstant.\n",
    "\n",
    "Plot 1: sett $\\eta = l = 1$ og la $r$ endre seg fra 0.1 til 0.2 med steg 0.001.\n",
    "\n",
    "Plot 2: sett $\\eta = r = 1$ og la $l$ endre seg fra 0.1 til 0.2 med steg 0.001.\n",
    "\n",
    "Plot 3: sett $r = l = 1$ og la $\\eta$ endre seg fra 0.1 til 0.2 med steg 0.001."
   ]
  },
  {
   "cell_type": "code",
   "execution_count": null,
   "metadata": {},
   "outputs": [],
   "source": [
    "# plot her\n",
    "\n",
    "start = 0.1\n",
    "steg = 0.001\n",
    "stopp = 0.2+steg\n",
    "# FYLL INN kode på de neste tre linjene for å lage arrays som går fra start til stopp med steglengden \n",
    "# definert over for r, eta og l\n",
    "r_arr = ___\n",
    "l_arr = ___\n",
    "eta_arr = ___\n",
    "\n",
    "plt.close()\n",
    "fig,axs=plt.subplots(figsize=(14,5),ncols=3)\n",
    "# REGN UT resistansen enten ved hjelp av funksjonen resistance eller resistance2 (dere velger selv) \n",
    "# for hvert array r_arr, l_arr og eta_arr\n",
    "R_vary_r = ___\n",
    "R_vary_l = ___\n",
    "R_vary_eta = ___\n",
    "\n",
    "# FYLL INN\n",
    "axs[0].plot(r_arr, ___)\n",
    "axs[1].plot(l_arr, ___)\n",
    "axs[2].plot(eta_arr, ___)\n",
    "\n",
    "# FYLL INN enheter innenfor parantesene på akse-lablene\n",
    "axs[0].set_xlabel('radii, r (___)')\n",
    "axs[0].legend(['l=1 (___), $\\eta$=1 (___)'])\n",
    "axs[1].set_xlabel('lengde, l (___)')\n",
    "axs[1].legend(['$\\eta$=1 (___),r=1 (___)'])\n",
    "axs[2].set_xlabel('viskositeten, $\\eta$ (___)')\n",
    "axs[2].legend(['l=1 (__), r=1 (___)'])\n",
    "fig.text(0, 0.5, 'resistance', ha='center', rotation='vertical')\n",
    "plt.tight_layout()"
   ]
  },
  {
   "cell_type": "markdown",
   "metadata": {},
   "source": [
    "Stemte hypotesen deres i oppgave b? Undersøk grafene."
   ]
  },
  {
   "cell_type": "markdown",
   "metadata": {},
   "source": [
    "        Svar:\n"
   ]
  },
  {
   "cell_type": "markdown",
   "metadata": {},
   "source": [
    "\n",
    "**f)**\n",
    "Vil det være størst motstand mot blodstrøm i aorta eller en tynn arteriole?"
   ]
  },
  {
   "cell_type": "markdown",
   "metadata": {},
   "source": [
    "        Svar:\n"
   ]
  },
  {
   "cell_type": "markdown",
   "metadata": {},
   "source": [
    "\n",
    "\n",
    "**g)**\n",
    "I kroppen er to av variablene $\\eta$, $l$ og $r$ relativt konstante.\n",
    "Én av variablene reguleres i kroppen for å øke blodstrømmen, hvilken variabel er\n",
    " dette?"
   ]
  },
  {
   "cell_type": "markdown",
   "metadata": {},
   "source": [
    "        Svar:\n"
   ]
  },
  {
   "cell_type": "markdown",
   "metadata": {},
   "source": [
    "\n",
    "**h)**\n",
    "I denne [videoen](https://www.youtube.com/watch?v=4WvnjCkLbvY), kan dere se hvordan\n",
    "giften til en Russels hoggorm vil påvirke blodstrømmen til et uheldig bytte.\n",
    "\n",
    "\n",
    "<!-- --- end exercise --- -->\n",
    "\n",
    "\n",
    "\n",
    "\n",
    "<!-- --- begin exercise --- -->\n",
    "\n",
    "## Exercise 3: Sant eller usant?\n",
    "\n",
    "Bruk likningene og pythonprogrammene ovenfor til å avgjøre om følgende påstander\n",
    "er sanne eller usanne. Dere må begrunne svarene dere gir.\n",
    "\n",
    "\n",
    "**a)**\n",
    "En blodåre har konstant viskositet, radius og lengde.\n",
    "Hvis blodstrømmen minker, vil blodtrykksendringen i blodåren øke."
   ]
  },
  {
   "cell_type": "markdown",
   "metadata": {},
   "source": [
    "        Svar:\n"
   ]
  },
  {
   "cell_type": "markdown",
   "metadata": {},
   "source": [
    "\n",
    "\n",
    "**b)**\n",
    "Hvis viskositeten til blodet minker vil blodtrykket minke når blodstrøm,\n",
    "radius og lengde i blodåren er konstant."
   ]
  },
  {
   "cell_type": "markdown",
   "metadata": {},
   "source": [
    "        Svar:\n"
   ]
  },
  {
   "cell_type": "markdown",
   "metadata": {},
   "source": [
    "\n",
    "\n",
    "**c)**\n",
    "Hvis radien i en blodåre dobles, blodtrykksendringen halveres, viskositeten dobles,\n",
    "og blodårens lengde er konstant vil blodstrømmen firedobles."
   ]
  },
  {
   "cell_type": "markdown",
   "metadata": {},
   "source": [
    "        Svar:\n"
   ]
  },
  {
   "cell_type": "markdown",
   "metadata": {},
   "source": [
    "\n",
    "\n",
    "<!-- --- end exercise --- -->\n",
    "\n",
    "\n",
    "\n",
    "\n",
    "<!-- --- begin exercise --- -->\n",
    "\n",
    "## Exercise 4: Sett kunnskapen sammen\n",
    "\n",
    "I denne oppgaven skal dere bruke likningene og oppgavene over til å lage en\n",
    "pythonfunksjon som tar blodstrøm, viskositet, radius og lengde som argumenter,\n",
    "og regner ut blodtrykksendringen. Dere velger selv hvilke enheter dere vil regne i, men vær konsistent.\n",
    "\n",
    "\n",
    "**a)**\n",
    "Fyll ut python-funksjonen \"flow2\" under som tar blodtrykksendring, viskositet, radius og\n",
    "lengde som argumenter og regner ut blodstrømmen."
   ]
  },
  {
   "cell_type": "code",
   "execution_count": null,
   "metadata": {},
   "outputs": [],
   "source": [
    "def flow2(delta_p, eta, r, l):\n",
    "    # REGN UT resistansen ved hjelp av en av funksjonene dere har lagd på neste linje\n",
    "    R = ___\n",
    "    # REGN UT flow q gitt delta_p og R på ved hjelp av funksjonen dere lagde i oppgave 1c) på neste linje\n",
    "    q = ___\n",
    "    return q"
   ]
  },
  {
   "cell_type": "markdown",
   "metadata": {},
   "source": [
    "\n",
    "**b)**\n",
    "Bruk funksjonen du lagde i forrige oppgave til å plotte blodstrømmen som\n",
    "funksjon av radius for en arteriole. Sett $\\Delta p = 15\\ mPa$,\n",
    "$\\eta = 2.5\\ mPa \\cdot s$, $l = 1\\ \\mathrm{mm}$ og la $r$ gå fra $0.1$ til\n",
    "$0.4\\ \\mathrm{mm}$.\n",
    "Sett enhet på blodstrømaksen."
   ]
  },
  {
   "cell_type": "code",
   "execution_count": null,
   "metadata": {},
   "outputs": [],
   "source": [
    "# plott blodstrøm på y-aksen, radius på x-aksen\n",
    "start = 0.1\n",
    "steg = 0.01\n",
    "stopp = 0.4+steg\n",
    "r_arr = arange(start, stopp, steg)\n",
    "delta_p = 0.015\n",
    "eta = 0.0025\n",
    "l = 1\n",
    "\n",
    "# REGN UT blodstrømmen q på neste linje\n",
    "q = ___\n",
    "plt.close()\n",
    "# FYLL INN variablene som trengs for å plotte blodstrømmen mot radius på neste linje\n",
    "plt.plot(__, __)\n",
    "plt.xlabel('radius, r in mm')\n",
    "\n",
    "# FYLL INN enhet for blodstrøm innenfor parantes på akse-label på neste linje. \n",
    "# Merk at hvilken enhet dere skal fylle inn avhenger av hvilke funksjoner dere brukte til å regne ut flow\n",
    "# i oppgave a\n",
    "plt.ylabel('blodstrøm, q, (___)')\n",
    "plt.legend(['$\\Delta p=0.015\\ mPa, \\eta=2.5\\ mPa \\cdot s, l=1mm$'])"
   ]
  },
  {
   "cell_type": "markdown",
   "metadata": {},
   "source": [
    "\n",
    "<!-- --- end exercise --- -->"
   ]
  }
 ],
 "metadata": {
  "kernelspec": {
   "display_name": "Python 3",
   "language": "python",
   "name": "python3"
  },
  "language_info": {
   "codemirror_mode": {
    "name": "ipython",
    "version": 3
   },
   "file_extension": ".py",
   "mimetype": "text/x-python",
   "name": "python",
   "nbconvert_exporter": "python",
   "pygments_lexer": "ipython3",
   "version": "3.7.6"
  }
 },
 "nbformat": 4,
 "nbformat_minor": 4
}
